{
 "cells": [
  {
   "cell_type": "code",
   "execution_count": 166,
   "metadata": {},
   "outputs": [],
   "source": [
    "import numpy as np\n",
    "import pandas as pd\n",
    "import datetime as dt\n",
    "import requests\n",
    "import io"
   ]
  },
  {
   "cell_type": "code",
   "execution_count": 68,
   "metadata": {},
   "outputs": [
    {
     "name": "stderr",
     "output_type": "stream",
     "text": [
      "C:\\Users\\alana\\Anaconda3\\lib\\site-packages\\IPython\\core\\interactiveshell.py:3020: DtypeWarning: Columns (32) have mixed types. Specify dtype option on import or set low_memory=False.\n",
      "  interactivity=interactivity, compiler=compiler, result=result)\n"
     ]
    }
   ],
   "source": [
    "data = pd.read_csv(\"Resources/cleaning-home.csv\")"
   ]
  },
  {
   "cell_type": "code",
   "execution_count": null,
   "metadata": {},
   "outputs": [],
   "source": [
    "data = data.drop(columns=['Unnamed: 0'])\n",
    "data['BABIP'] = (data.H - data.HR) / (data.AB - data.SO - data.HR + data.SF)\n",
    "data.DaysOld = (pd.to_datetime(data.StartSeason) - pd.to_datetime(data.borndate))\n",
    "data.DaysOld = round(data.DaysOld.dt.days, 0)\n",
    "data['SB%'] = data['SB%'].fillna(0)"
   ]
  },
  {
   "cell_type": "code",
   "execution_count": 69,
   "metadata": {},
   "outputs": [],
   "source": [
    "leveler = {'A+':3, 'A': 4, 'Rk':6, 'A-':5, 'AAA': 1, 'AA':2}\n",
    "releveler = {3:'A+', 4:'A', 6:'Rk', 5:'A-', 1: 'AAA', 2 : 'AA'}"
   ]
  },
  {
   "cell_type": "code",
   "execution_count": null,
   "metadata": {},
   "outputs": [],
   "source": [
    "url = \"https://raw.githubusercontent.com/chadwickbureau/register/master/data/people.csv\"\n",
    "s=requests.get(url).content\n",
    "table = pd.read_csv(io.StringIO(s.decode('utf-8')), dtype={'key_sr_nfl': object, 'key_sr_nba': object, 'key_sr_nhl': object})\n",
    "#subset columns\n",
    "cols_to_keep = ['name_last','name_first','key_mlbam', 'key_retro', 'key_bbref', 'key_fangraphs', 'mlb_played_first','mlb_played_last']\n",
    "table = table[cols_to_keep]\n",
    "#make these lowercase to avoid capitalization mistakes when searching\n",
    "table['name_last'] = table['name_last'].str.lower()\n",
    "table['name_first'] = table['name_first'].str.lower()\n",
    "# Pandas cannot handle NaNs in integer columns. We need IDs to be ints for successful queries in statcast, etc. \n",
    "# Workaround: replace ID NaNs with -1, then convert columns to integers. User will have to understand that -1 is not a valid ID. \n",
    "table[['key_mlbam', 'key_fangraphs']] = table[['key_mlbam', 'key_fangraphs']].fillna(-1)\n",
    "table[['key_mlbam', 'key_fangraphs']] = table[['key_mlbam', 'key_fangraphs']].astype(int) # originally returned as floats which is wrong\n",
    "\n",
    "#filters out before 2005, which should cover the players we need\n",
    "table = table[table.mlb_played_first > 2005]"
   ]
  },
  {
   "cell_type": "code",
   "execution_count": null,
   "metadata": {},
   "outputs": [],
   "source": [
    "def playerid_lookup(last, first=None):\n",
    "    # force input strings to lowercase\n",
    "    last = last.lower()\n",
    "    if first:\n",
    "        first = first.lower()\n",
    "    if first is None:\n",
    "        results = table.loc[table['name_last']==last]\n",
    "    else:\n",
    "        results = table.loc[(table['name_last']==last) & (table['name_first']==first)]\n",
    "    #results[['key_mlbam', 'key_fangraphs', 'mlb_played_first', 'mlb_played_last']] = results[['key_mlbam', 'key_fangraphs', 'mlb_played_first', 'mlb_played_last']].astype(int) # originally returned as floats which is wrong\n",
    "    results = results.reset_index().drop('index', 1)\n",
    "    return results"
   ]
  },
  {
   "cell_type": "code",
   "execution_count": 70,
   "metadata": {},
   "outputs": [],
   "source": [
    "data['Top'] = data.Level\n",
    "data = data.replace({\"Level\" : leveler})"
   ]
  },
  {
   "cell_type": "code",
   "execution_count": 71,
   "metadata": {},
   "outputs": [],
   "source": [
    "looker = data[['playerid', 'Level', 'Top']]\n",
    "looker = looker.groupby('playerid').min()\n",
    "looker = looker.reset_index()\n",
    "looker = looker.drop(columns = ['Top'])\n",
    "looker = looker.replace({\"Level\" : releveler})\n",
    "looker.head()"
   ]
  },
  {
   "cell_type": "code",
   "execution_count": 72,
   "metadata": {},
   "outputs": [],
   "source": [
    "final = data.merge(looker, on='playerid', how='left')\n",
    "final = final.rename(columns={'Level_x': 'Level'})\n",
    "final = final.rename(columns={'Level_y': 'TopLevel'})\n",
    "final = final.drop(columns='Top')"
   ]
  },
  {
   "cell_type": "code",
   "execution_count": 73,
   "metadata": {},
   "outputs": [],
   "source": [
    "look = final.groupby(['League', 'Level', 'year']).transform(lambda x: (x - x.mean()) / x.std())"
   ]
  },
  {
   "cell_type": "code",
   "execution_count": 225,
   "metadata": {},
   "outputs": [],
   "source": [
    "last = final[['playerid', 'TopLevel', 'year', 'teamName', 'League', 'Level', 'orgName',\n",
    "       'lastName', 'firstName', 'StartSeason', 'Bats', 'Throws', 'posit', 'borndate',\n",
    "        'cityName', 'regionID', 'mlbid', 'PA']]"
   ]
  },
  {
   "cell_type": "code",
   "execution_count": null,
   "metadata": {},
   "outputs": [],
   "source": []
  },
  {
   "cell_type": "code",
   "execution_count": null,
   "metadata": {},
   "outputs": [],
   "source": []
  },
  {
   "cell_type": "code",
   "execution_count": 226,
   "metadata": {},
   "outputs": [
    {
     "name": "stderr",
     "output_type": "stream",
     "text": [
      "C:\\Users\\alana\\Anaconda3\\lib\\site-packages\\pandas\\core\\frame.py:3140: SettingWithCopyWarning: \n",
      "A value is trying to be set on a copy of a slice from a DataFrame.\n",
      "Try using .loc[row_indexer,col_indexer] = value instead\n",
      "\n",
      "See the caveats in the documentation: http://pandas.pydata.org/pandas-docs/stable/indexing.html#indexing-view-versus-copy\n",
      "  self[k1] = value[k2]\n"
     ]
    }
   ],
   "source": [
    "last[['AVG', 'SLG', 'OBP', 'OPS', 'Age', 'HT', 'WT', 'DEF', 'ISO', 'BB%', 'K%', 'SB%', 'BABIP', 'DaysOld']] = look[['Bavg', 'Slg', 'obp', 'OPS', 'Age', 'HT', 'WT', 'Def', 'ISO', 'BB%', 'K%', 'SB%', 'BABIP', 'DaysOld']]"
   ]
  },
  {
   "cell_type": "code",
   "execution_count": 228,
   "metadata": {},
   "outputs": [
    {
     "name": "stderr",
     "output_type": "stream",
     "text": [
      "C:\\Users\\alana\\Anaconda3\\lib\\site-packages\\pandas\\core\\indexing.py:543: SettingWithCopyWarning: \n",
      "A value is trying to be set on a copy of a slice from a DataFrame.\n",
      "Try using .loc[row_indexer,col_indexer] = value instead\n",
      "\n",
      "See the caveats in the documentation: http://pandas.pydata.org/pandas-docs/stable/indexing.html#indexing-view-versus-copy\n",
      "  self.obj[item] = s\n"
     ]
    }
   ],
   "source": [
    "last.loc[(last.mlbid > 0) & (last.year < 2010), 'TopLevel'] = \"MLB\""
   ]
  },
  {
   "cell_type": "code",
   "execution_count": 77,
   "metadata": {},
   "outputs": [],
   "source": [
    "names = last[['firstName', 'lastName', 'year', 'playerid']]\n",
    "names = names[names.year > 2009]\n",
    "names['full'] = names.firstName + \" \" + names.lastName\n",
    "names = names.drop_duplicates(subset='full')\n",
    "names['id'] =  np.nan"
   ]
  },
  {
   "cell_type": "code",
   "execution_count": 83,
   "metadata": {},
   "outputs": [],
   "source": [
    "id = []\n",
    "for index, row in names.iterrows():\n",
    "    try:\n",
    "        test = playerid_lookup(row['lastName'], row['firstName'])\n",
    "        id.append(test['key_fangraphs'][0])\n",
    "    except IndexError:\n",
    "        id.append(np.nan)"
   ]
  },
  {
   "cell_type": "code",
   "execution_count": 84,
   "metadata": {},
   "outputs": [],
   "source": [
    "names['id'] = id"
   ]
  },
  {
   "cell_type": "code",
   "execution_count": 88,
   "metadata": {},
   "outputs": [],
   "source": [
    "names = names[['playerid', 'id']]"
   ]
  },
  {
   "cell_type": "code",
   "execution_count": 90,
   "metadata": {},
   "outputs": [],
   "source": [
    "last.to_csv(\"Resources/nocigar.csv\")"
   ]
  },
  {
   "cell_type": "code",
   "execution_count": 216,
   "metadata": {},
   "outputs": [],
   "source": [
    "names.id.loc[~names.id.isnull()] = 'MLB'  # not nan"
   ]
  },
  {
   "cell_type": "code",
   "execution_count": 230,
   "metadata": {
    "scrolled": true
   },
   "outputs": [],
   "source": [
    "last2 = last.merge(names, on='playerid', how = 'left')"
   ]
  },
  {
   "cell_type": "code",
   "execution_count": 232,
   "metadata": {},
   "outputs": [],
   "source": [
    "last2.id.fillna(last2.TopLevel, inplace=True)"
   ]
  },
  {
   "cell_type": "code",
   "execution_count": 237,
   "metadata": {},
   "outputs": [],
   "source": [
    "last2.to_csv(\"Resources/done.csv\")"
   ]
  },
  {
   "cell_type": "code",
   "execution_count": 238,
   "metadata": {},
   "outputs": [],
   "source": [
    "import pandas as pd"
   ]
  },
  {
   "cell_type": "code",
   "execution_count": 239,
   "metadata": {},
   "outputs": [],
   "source": [
    "last2 = pd.read_csv(\"Resources/done.csv\")"
   ]
  },
  {
   "cell_type": "code",
   "execution_count": 241,
   "metadata": {},
   "outputs": [],
   "source": [
    "last2.TopLevel = last2.id\n",
    "last2 = last2.drop(columns =['id', 'Unnamed: 0'])"
   ]
  },
  {
   "cell_type": "code",
   "execution_count": 243,
   "metadata": {},
   "outputs": [],
   "source": [
    "last2.to_csv(\"Resources/done.csv\")"
   ]
  },
  {
   "cell_type": "code",
   "execution_count": null,
   "metadata": {},
   "outputs": [],
   "source": []
  }
 ],
 "metadata": {
  "kernelspec": {
   "display_name": "Python 3",
   "language": "python",
   "name": "python3"
  },
  "language_info": {
   "codemirror_mode": {
    "name": "ipython",
    "version": 3
   },
   "file_extension": ".py",
   "mimetype": "text/x-python",
   "name": "python",
   "nbconvert_exporter": "python",
   "pygments_lexer": "ipython3",
   "version": "3.7.1"
  }
 },
 "nbformat": 4,
 "nbformat_minor": 2
}
